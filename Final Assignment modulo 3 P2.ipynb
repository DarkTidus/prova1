{
 "cells": [
  {
   "attachments": {},
   "cell_type": "markdown",
   "id": "2b04dd95-2ffb-4fa1-b4b2-091647abb161",
   "metadata": {},
   "source": [
    "# 3.15.x Final Assignment"
   ]
  },
  {
   "attachments": {},
   "cell_type": "markdown",
   "id": "5a968c9c-628b-42c6-b692-d88b2a1866f4",
   "metadata": {},
   "source": [
    "### Assignment Instructions"
   ]
  },
  {
   "attachments": {},
   "cell_type": "markdown",
   "id": "b197f446-530c-41ee-b11f-57900dfa6fae",
   "metadata": {
    "tags": []
   },
   "source": [
    "#### Part 2   |   Advanced Difficulty Level\n",
    "\n",
    "In this second part, you will be working with a datasets containing information on indian startups' funding, including the startup's details, the funding it received, and the investors' information. \n",
    "\n",
    "In the usual `data` folder, you will find the following three datasets, including data from 2019, 2020 and 2021: \n",
    "\n",
    "- `startup_funding2019.csv`\n",
    "- `startup_funding2020.csv`\n",
    "- `startup_funding2021.csv`\n",
    "\n",
    "At [this link](https://www.kaggle.com/datasets/omkargowda/indian-startups-funding-data?select=startup_funding2019.csv) you can find the source of the original data (Kaggle) as well as more information on its composition *(note: the files in the data folder are slightly different from the originals)*."
   ]
  },
  {
   "cell_type": "code",
   "execution_count": 86,
   "id": "99487c9c",
   "metadata": {},
   "outputs": [],
   "source": [
    "import pandas as pd\n",
    "import numpy as np\n",
    "import matplotlib.pyplot as plt\n",
    "import seaborn as sns"
   ]
  },
  {
   "attachments": {},
   "cell_type": "markdown",
   "id": "9528671c-2443-4008-9872-ef76288bab5b",
   "metadata": {},
   "source": [
    "1. Using a **for loop**, load all three .csv files in a temporary DataFrame called `df_tmp` and, at each cycle, add a new column named `Year` that includes the year of that csv file to the temporary table and append it to a final DataFrame named `fnd`. Your final `fnd` DataFrame should include the contents from all three csv files stacked one on top of the other. \n",
    "\n",
    "    What is the **shape** of the `fnd` DataFrame? "
   ]
  },
  {
   "cell_type": "code",
   "execution_count": 327,
   "id": "95b7ed33-a7c7-4309-bfba-d07958820fb9",
   "metadata": {},
   "outputs": [
    {
     "name": "stdout",
     "output_type": "stream",
     "text": [
      "(89, 9)\n",
      "(1052, 9)\n",
      "(1202, 9)\n",
      "\n",
      " The shape of the `fnd` DataFrame is: (2343, 10) \n",
      "\n",
      "       Company/Brand Founded HeadQuarter                 Sector  \\\n",
      "0     Bombay Shaving     NaN         NaN              Ecommerce   \n",
      "1          Ruangguru  2014.0      Mumbai                 Edtech   \n",
      "2           Eduisfun     NaN      Mumbai                 Edtech   \n",
      "3           HomeLane  2014.0     Chennai        Interior design   \n",
      "4           Nu Genes  2004.0   Telangana               AgriTech   \n",
      "...              ...     ...         ...                    ...   \n",
      "2338        Gigforce    2019    Gurugram  Staffing & Recruiting   \n",
      "2339          Vahdam    2015   New Delhi       Food & Beverages   \n",
      "2340    Leap Finance    2019   Bangalore     Financial Services   \n",
      "2341    CollegeDekho    2015    Gurugram                 EdTech   \n",
      "2342          WeRize    2019   Bangalore     Financial Services   \n",
      "\n",
      "                                           What it does  \\\n",
      "0            Provides a range of male grooming products   \n",
      "1     A learning platform that provides topic-based ...   \n",
      "2               It aims to make learning fun via games.   \n",
      "3                 Provides interior designing solutions   \n",
      "4     It is a seed company engaged in production, pr...   \n",
      "...                                                 ...   \n",
      "2338                  A gig/on-demand staffing company.   \n",
      "2339  VAHDAM is among the world’s first vertically i...   \n",
      "2340  International education loans for high potenti...   \n",
      "2341  Collegedekho.com is Student’s Partner, Friend ...   \n",
      "2342  India’s first socially distributed full stack ...   \n",
      "\n",
      "                                   Founders  \\\n",
      "0                        Shantanu Deshpande   \n",
      "1     Adamas Belva Syah Devara, Iman Usman.   \n",
      "2                             Jatin Solanki   \n",
      "3              Srikanth Iyer, Rama Harinath   \n",
      "4                    Narayana Reddy Punyala   \n",
      "...                                     ...   \n",
      "2338            Chirag Mittal, Anirudh Syal   \n",
      "2339                             Bala Sarda   \n",
      "2340             Arnav Kumar, Vaibhav Singh   \n",
      "2341                           Ruchir Arora   \n",
      "2342          Vishal Chopra, Himanshu Gupta   \n",
      "\n",
      "                                               Investor     Amount($)  \\\n",
      "0                                  Sixth Sense Ventures    $6,300,000   \n",
      "1                                      General Atlantic  $150,000,000   \n",
      "2        Deepak Parekh, Amitabh Bachchan, Piyush Pandey   $28,000,000   \n",
      "3     Evolvence India Fund (EIF), Pidilite Group, FJ...   $30,000,000   \n",
      "4              Innovation in Food and Agriculture (IFA)    $6,000,000   \n",
      "...                                                 ...           ...   \n",
      "2338                                    Endiya Partners      $3000000   \n",
      "2339                                           IIFL AMC     $20000000   \n",
      "2340                                       Owl Ventures     $55000000   \n",
      "2341                   Winter Capital, ETS, Man Capital     $26000000   \n",
      "2342                     3one4 Capital, Kalaari Capital      $8000000   \n",
      "\n",
      "              Stage  Year  \n",
      "0               NaN  2019  \n",
      "1          Series C  2019  \n",
      "2     Fresh funding  2019  \n",
      "3          Series D  2019  \n",
      "4               NaN  2019  \n",
      "...             ...   ...  \n",
      "2338   Pre-series A  2021  \n",
      "2339       Series D  2021  \n",
      "2340       Series C  2021  \n",
      "2341       Series B  2021  \n",
      "2342       Series A  2021  \n",
      "\n",
      "[2343 rows x 10 columns]\n"
     ]
    }
   ],
   "source": [
    "\n",
    "fnd = pd.DataFrame()\n",
    "\n",
    "# Lista dei nomi dei file CSV\n",
    "csv_files = ['startup_funding2019.csv', 'startup_funding2020.csv', 'startup_funding2021.csv']\n",
    "\n",
    "# Ciclo for per caricare i file CSV e aggiungere la colonna Year\n",
    "for csv_file in csv_files:\n",
    "    # Carica il file CSV nel DataFrame temporaneo df_tmp\n",
    "    df_tmp = pd.read_csv(csv_file)\n",
    "    print( df_tmp.shape )\n",
    "    # Estrai l'anno dal nome del file CSV\n",
    "    year = csv_file[-8:-4]  \n",
    "    \n",
    "    # Aggiungi la colonna Year al DataFrame temporaneo df_tmp\n",
    "    df_tmp['Year'] = year\n",
    "    \n",
    "    # Appendi il DataFrame temporaneo df_tmp al DataFrame finale fnd\n",
    "    fnd = pd.concat([fnd, df_tmp], ignore_index=True)\n",
    "    \n",
    "# Mostra il DataFrame finale fnd\n",
    "print(\"\\n The shape of the `fnd` DataFrame is:\", fnd.shape, '\\n')\n",
    "print(fnd)"
   ]
  },
  {
   "attachments": {},
   "cell_type": "markdown",
   "id": "1740ef37-e478-4d67-ac20-375b652cbcf0",
   "metadata": {},
   "source": [
    "2. If you check the columns' data types, you'll notice that the columns `Founded`, `Amount($)` and `Year` are being interpreted as strings instead of numbers. Format those three columns to numeric data types. \n",
    "\n",
    "    What is the **total** `Amount($)` of funding given in the three years available?"
   ]
  },
  {
   "cell_type": "code",
   "execution_count": 328,
   "id": "324f82d0",
   "metadata": {},
   "outputs": [],
   "source": [
    "# La funzione leva virgole e $ dalla colonna\n",
    "def convert_to_number(stringa):\n",
    "    return (stringa.replace(',', '').replace('$', ''))\n",
    "\n",
    "# Applica la conversione a tutta la colonna \n",
    "fnd['Amount($)'] = fnd['Amount($)'].apply(lambda x: convert_to_number(x) if pd.notnull(x) else x)"
   ]
  },
  {
   "cell_type": "code",
   "execution_count": 329,
   "id": "839955c1-8c75-4448-9b34-cb51328b2137",
   "metadata": {},
   "outputs": [],
   "source": [
    "fnd['Founded']= pd.to_numeric(fnd['Founded'], downcast='integer', errors='coerce')\n",
    "fnd['Amount($)']= pd.to_numeric(fnd['Amount($)'], downcast='float', errors='coerce')\n",
    "fnd['Year']= pd.to_numeric(fnd['Year'], errors='coerce')"
   ]
  },
  {
   "cell_type": "code",
   "execution_count": 330,
   "id": "4e7ec3ea",
   "metadata": {},
   "outputs": [
    {
     "data": {
      "text/html": [
       "<div>\n",
       "<style scoped>\n",
       "    .dataframe tbody tr th:only-of-type {\n",
       "        vertical-align: middle;\n",
       "    }\n",
       "\n",
       "    .dataframe tbody tr th {\n",
       "        vertical-align: top;\n",
       "    }\n",
       "\n",
       "    .dataframe thead th {\n",
       "        text-align: right;\n",
       "    }\n",
       "</style>\n",
       "<table border=\"1\" class=\"dataframe\">\n",
       "  <thead>\n",
       "    <tr style=\"text-align: right;\">\n",
       "      <th></th>\n",
       "      <th>Company/Brand</th>\n",
       "      <th>Founded</th>\n",
       "      <th>HeadQuarter</th>\n",
       "      <th>Sector</th>\n",
       "      <th>What it does</th>\n",
       "      <th>Founders</th>\n",
       "      <th>Investor</th>\n",
       "      <th>Amount($)</th>\n",
       "      <th>Stage</th>\n",
       "      <th>Year</th>\n",
       "    </tr>\n",
       "  </thead>\n",
       "  <tbody>\n",
       "    <tr>\n",
       "      <th>0</th>\n",
       "      <td>Bombay Shaving</td>\n",
       "      <td>NaN</td>\n",
       "      <td>NaN</td>\n",
       "      <td>Ecommerce</td>\n",
       "      <td>Provides a range of male grooming products</td>\n",
       "      <td>Shantanu Deshpande</td>\n",
       "      <td>Sixth Sense Ventures</td>\n",
       "      <td>6300000.0</td>\n",
       "      <td>NaN</td>\n",
       "      <td>2019</td>\n",
       "    </tr>\n",
       "    <tr>\n",
       "      <th>1</th>\n",
       "      <td>Ruangguru</td>\n",
       "      <td>2014.0</td>\n",
       "      <td>Mumbai</td>\n",
       "      <td>Edtech</td>\n",
       "      <td>A learning platform that provides topic-based ...</td>\n",
       "      <td>Adamas Belva Syah Devara, Iman Usman.</td>\n",
       "      <td>General Atlantic</td>\n",
       "      <td>150000000.0</td>\n",
       "      <td>Series C</td>\n",
       "      <td>2019</td>\n",
       "    </tr>\n",
       "    <tr>\n",
       "      <th>2</th>\n",
       "      <td>Eduisfun</td>\n",
       "      <td>NaN</td>\n",
       "      <td>Mumbai</td>\n",
       "      <td>Edtech</td>\n",
       "      <td>It aims to make learning fun via games.</td>\n",
       "      <td>Jatin Solanki</td>\n",
       "      <td>Deepak Parekh, Amitabh Bachchan, Piyush Pandey</td>\n",
       "      <td>28000000.0</td>\n",
       "      <td>Fresh funding</td>\n",
       "      <td>2019</td>\n",
       "    </tr>\n",
       "    <tr>\n",
       "      <th>3</th>\n",
       "      <td>HomeLane</td>\n",
       "      <td>2014.0</td>\n",
       "      <td>Chennai</td>\n",
       "      <td>Interior design</td>\n",
       "      <td>Provides interior designing solutions</td>\n",
       "      <td>Srikanth Iyer, Rama Harinath</td>\n",
       "      <td>Evolvence India Fund (EIF), Pidilite Group, FJ...</td>\n",
       "      <td>30000000.0</td>\n",
       "      <td>Series D</td>\n",
       "      <td>2019</td>\n",
       "    </tr>\n",
       "    <tr>\n",
       "      <th>4</th>\n",
       "      <td>Nu Genes</td>\n",
       "      <td>2004.0</td>\n",
       "      <td>Telangana</td>\n",
       "      <td>AgriTech</td>\n",
       "      <td>It is a seed company engaged in production, pr...</td>\n",
       "      <td>Narayana Reddy Punyala</td>\n",
       "      <td>Innovation in Food and Agriculture (IFA)</td>\n",
       "      <td>6000000.0</td>\n",
       "      <td>NaN</td>\n",
       "      <td>2019</td>\n",
       "    </tr>\n",
       "    <tr>\n",
       "      <th>...</th>\n",
       "      <td>...</td>\n",
       "      <td>...</td>\n",
       "      <td>...</td>\n",
       "      <td>...</td>\n",
       "      <td>...</td>\n",
       "      <td>...</td>\n",
       "      <td>...</td>\n",
       "      <td>...</td>\n",
       "      <td>...</td>\n",
       "      <td>...</td>\n",
       "    </tr>\n",
       "    <tr>\n",
       "      <th>2338</th>\n",
       "      <td>Gigforce</td>\n",
       "      <td>2019.0</td>\n",
       "      <td>Gurugram</td>\n",
       "      <td>Staffing &amp; Recruiting</td>\n",
       "      <td>A gig/on-demand staffing company.</td>\n",
       "      <td>Chirag Mittal, Anirudh Syal</td>\n",
       "      <td>Endiya Partners</td>\n",
       "      <td>3000000.0</td>\n",
       "      <td>Pre-series A</td>\n",
       "      <td>2021</td>\n",
       "    </tr>\n",
       "    <tr>\n",
       "      <th>2339</th>\n",
       "      <td>Vahdam</td>\n",
       "      <td>2015.0</td>\n",
       "      <td>New Delhi</td>\n",
       "      <td>Food &amp; Beverages</td>\n",
       "      <td>VAHDAM is among the world’s first vertically i...</td>\n",
       "      <td>Bala Sarda</td>\n",
       "      <td>IIFL AMC</td>\n",
       "      <td>20000000.0</td>\n",
       "      <td>Series D</td>\n",
       "      <td>2021</td>\n",
       "    </tr>\n",
       "    <tr>\n",
       "      <th>2340</th>\n",
       "      <td>Leap Finance</td>\n",
       "      <td>2019.0</td>\n",
       "      <td>Bangalore</td>\n",
       "      <td>Financial Services</td>\n",
       "      <td>International education loans for high potenti...</td>\n",
       "      <td>Arnav Kumar, Vaibhav Singh</td>\n",
       "      <td>Owl Ventures</td>\n",
       "      <td>55000000.0</td>\n",
       "      <td>Series C</td>\n",
       "      <td>2021</td>\n",
       "    </tr>\n",
       "    <tr>\n",
       "      <th>2341</th>\n",
       "      <td>CollegeDekho</td>\n",
       "      <td>2015.0</td>\n",
       "      <td>Gurugram</td>\n",
       "      <td>EdTech</td>\n",
       "      <td>Collegedekho.com is Student’s Partner, Friend ...</td>\n",
       "      <td>Ruchir Arora</td>\n",
       "      <td>Winter Capital, ETS, Man Capital</td>\n",
       "      <td>26000000.0</td>\n",
       "      <td>Series B</td>\n",
       "      <td>2021</td>\n",
       "    </tr>\n",
       "    <tr>\n",
       "      <th>2342</th>\n",
       "      <td>WeRize</td>\n",
       "      <td>2019.0</td>\n",
       "      <td>Bangalore</td>\n",
       "      <td>Financial Services</td>\n",
       "      <td>India’s first socially distributed full stack ...</td>\n",
       "      <td>Vishal Chopra, Himanshu Gupta</td>\n",
       "      <td>3one4 Capital, Kalaari Capital</td>\n",
       "      <td>8000000.0</td>\n",
       "      <td>Series A</td>\n",
       "      <td>2021</td>\n",
       "    </tr>\n",
       "  </tbody>\n",
       "</table>\n",
       "<p>2343 rows × 10 columns</p>\n",
       "</div>"
      ],
      "text/plain": [
       "       Company/Brand  Founded HeadQuarter                 Sector  \\\n",
       "0     Bombay Shaving      NaN         NaN              Ecommerce   \n",
       "1          Ruangguru   2014.0      Mumbai                 Edtech   \n",
       "2           Eduisfun      NaN      Mumbai                 Edtech   \n",
       "3           HomeLane   2014.0     Chennai        Interior design   \n",
       "4           Nu Genes   2004.0   Telangana               AgriTech   \n",
       "...              ...      ...         ...                    ...   \n",
       "2338        Gigforce   2019.0    Gurugram  Staffing & Recruiting   \n",
       "2339          Vahdam   2015.0   New Delhi       Food & Beverages   \n",
       "2340    Leap Finance   2019.0   Bangalore     Financial Services   \n",
       "2341    CollegeDekho   2015.0    Gurugram                 EdTech   \n",
       "2342          WeRize   2019.0   Bangalore     Financial Services   \n",
       "\n",
       "                                           What it does  \\\n",
       "0            Provides a range of male grooming products   \n",
       "1     A learning platform that provides topic-based ...   \n",
       "2               It aims to make learning fun via games.   \n",
       "3                 Provides interior designing solutions   \n",
       "4     It is a seed company engaged in production, pr...   \n",
       "...                                                 ...   \n",
       "2338                  A gig/on-demand staffing company.   \n",
       "2339  VAHDAM is among the world’s first vertically i...   \n",
       "2340  International education loans for high potenti...   \n",
       "2341  Collegedekho.com is Student’s Partner, Friend ...   \n",
       "2342  India’s first socially distributed full stack ...   \n",
       "\n",
       "                                   Founders  \\\n",
       "0                        Shantanu Deshpande   \n",
       "1     Adamas Belva Syah Devara, Iman Usman.   \n",
       "2                             Jatin Solanki   \n",
       "3              Srikanth Iyer, Rama Harinath   \n",
       "4                    Narayana Reddy Punyala   \n",
       "...                                     ...   \n",
       "2338            Chirag Mittal, Anirudh Syal   \n",
       "2339                             Bala Sarda   \n",
       "2340             Arnav Kumar, Vaibhav Singh   \n",
       "2341                           Ruchir Arora   \n",
       "2342          Vishal Chopra, Himanshu Gupta   \n",
       "\n",
       "                                               Investor    Amount($)  \\\n",
       "0                                  Sixth Sense Ventures    6300000.0   \n",
       "1                                      General Atlantic  150000000.0   \n",
       "2        Deepak Parekh, Amitabh Bachchan, Piyush Pandey   28000000.0   \n",
       "3     Evolvence India Fund (EIF), Pidilite Group, FJ...   30000000.0   \n",
       "4              Innovation in Food and Agriculture (IFA)    6000000.0   \n",
       "...                                                 ...          ...   \n",
       "2338                                    Endiya Partners    3000000.0   \n",
       "2339                                           IIFL AMC   20000000.0   \n",
       "2340                                       Owl Ventures   55000000.0   \n",
       "2341                   Winter Capital, ETS, Man Capital   26000000.0   \n",
       "2342                     3one4 Capital, Kalaari Capital    8000000.0   \n",
       "\n",
       "              Stage  Year  \n",
       "0               NaN  2019  \n",
       "1          Series C  2019  \n",
       "2     Fresh funding  2019  \n",
       "3          Series D  2019  \n",
       "4               NaN  2019  \n",
       "...             ...   ...  \n",
       "2338   Pre-series A  2021  \n",
       "2339       Series D  2021  \n",
       "2340       Series C  2021  \n",
       "2341       Series B  2021  \n",
       "2342       Series A  2021  \n",
       "\n",
       "[2343 rows x 10 columns]"
      ]
     },
     "execution_count": 330,
     "metadata": {},
     "output_type": "execute_result"
    }
   ],
   "source": [
    "fnd"
   ]
  },
  {
   "cell_type": "code",
   "execution_count": 331,
   "id": "a722fd4a",
   "metadata": {},
   "outputs": [
    {
     "name": "stdout",
     "output_type": "stream",
     "text": [
      "271544633855.83002\n"
     ]
    }
   ],
   "source": [
    "total_funding = fnd['Amount($)'].sum()\n",
    "print(total_funding)"
   ]
  },
  {
   "attachments": {},
   "cell_type": "markdown",
   "id": "65cd9537-3d28-4361-a8db-8be41843e801",
   "metadata": {},
   "source": [
    "3. The following code shows us that \"Inflection Point Ventures\" was the `Investor` that funded the highest number of `Company/Brand`s overall (36 companies funded from 2019 to 2021). \n",
    "\n",
    "    How did \"Inflection Point Ventures\" **rank** *(in terms of most `Company/Brand`s funded) **in 2020**? (Note: in the answer write the rank number, where 1 = most funded company)*"
   ]
  },
  {
   "cell_type": "code",
   "execution_count": 332,
   "id": "28c4329f-45da-4220-b871-4535ee010fde",
   "metadata": {},
   "outputs": [
    {
     "data": {
      "text/html": [
       "<div>\n",
       "<style scoped>\n",
       "    .dataframe tbody tr th:only-of-type {\n",
       "        vertical-align: middle;\n",
       "    }\n",
       "\n",
       "    .dataframe tbody tr th {\n",
       "        vertical-align: top;\n",
       "    }\n",
       "\n",
       "    .dataframe thead th {\n",
       "        text-align: right;\n",
       "    }\n",
       "</style>\n",
       "<table border=\"1\" class=\"dataframe\">\n",
       "  <thead>\n",
       "    <tr style=\"text-align: right;\">\n",
       "      <th></th>\n",
       "      <th>Investor</th>\n",
       "      <th>size</th>\n",
       "    </tr>\n",
       "  </thead>\n",
       "  <tbody>\n",
       "    <tr>\n",
       "      <th>696</th>\n",
       "      <td>Inflection Point Ventures</td>\n",
       "      <td>36</td>\n",
       "    </tr>\n",
       "  </tbody>\n",
       "</table>\n",
       "</div>"
      ],
      "text/plain": [
       "                      Investor  size\n",
       "696  Inflection Point Ventures    36"
      ]
     },
     "execution_count": 332,
     "metadata": {},
     "output_type": "execute_result"
    }
   ],
   "source": [
    "# run this cell (don not delete it)\n",
    "fnd.groupby('Investor', as_index=False).size().sort_values('size', ascending=False).head(1)"
   ]
  },
  {
   "cell_type": "code",
   "execution_count": 333,
   "id": "6c77666b-4ef9-4df7-a83f-a4231bc9726f",
   "metadata": {},
   "outputs": [
    {
     "data": {
      "text/plain": [
       "4"
      ]
     },
     "execution_count": 333,
     "metadata": {},
     "output_type": "execute_result"
    }
   ],
   "source": [
    "supp=fnd[fnd['Year']==2020].groupby('Investor', as_index=False).size().sort_values('size', ascending=False).reset_index()\n",
    "\n",
    "(supp['Investor'].tolist().index('Inflection Point Ventures'))+1\n"
   ]
  },
  {
   "attachments": {},
   "cell_type": "markdown",
   "id": "9e1ebfb8-ee7b-428d-8075-ba8ea6c9f63a",
   "metadata": {},
   "source": [
    "4. Load the `Software Professionals Salary.csv` file in a DataFrame named `sps` (just like you did in Part 1), then perform the following tasks **and answer the question at the end**: \n",
    "    1. starting from the `sps` DataFrame, create a new DF called `sps_loc` where you group by `Location` and show, for each city in the dataset, the average `Rating` and `Salary`;\n",
    "    2. starting from the `fnd` DataFrame, create a new DF called `fnd_loc` where you group by `HeadQuarter` and show, for each city in the dataset **for the year 2021**, the total number of `Company/Brand`s funded and the total `Amount($)` invested;\n",
    "    3. merge the two DataFrames you just created so to **keep just the cities that are in both datasets** and save the results in a third DataFrame called `sps_fnd_loc` *(note: make sure to use the correct type of join)*;\n",
    "    4. using the `sps_fnd_loc` DataFrame: \n",
    "        1. delete the `HeadQuarter` column\n",
    "        2. create a new column `Amount($MM)` that is equal to `Amount($)` divided by 1,000,000\n",
    "        3. delete the `Amount($)` column\n",
    "        4. rename all the columns to the following names: `['City', 'Avg. Rating', 'Avg. Salary', 'Nr. Companies Funded', 'Sum Funding ($MM)']`\n",
    "    \n",
    "    **Question**: Look at the `City` that received the **highest** `Avg. Rating` score by employees: what is the `Nr. Companies Funded` in that city? "
   ]
  },
  {
   "cell_type": "code",
   "execution_count": 334,
   "id": "594dbaa6-906b-4041-9943-148927b5750a",
   "metadata": {},
   "outputs": [],
   "source": [
    "file = pd.read_csv (\"Software Professionals Salary.csv\")\n",
    "sps = pd.DataFrame(file)"
   ]
  },
  {
   "cell_type": "code",
   "execution_count": 335,
   "id": "994da66e",
   "metadata": {},
   "outputs": [],
   "source": [
    "sps_loc = sps.groupby('Location').agg({\"Rating\":[\"mean\"], \"Salary\":[\"mean\"]}).round(3).reset_index()"
   ]
  },
  {
   "cell_type": "code",
   "execution_count": 336,
   "id": "188003b1",
   "metadata": {},
   "outputs": [],
   "source": [
    "fnd_loc = fnd[fnd['Year']==2021].groupby('HeadQuarter').agg({\"Company/Brand\":[\"count\"], \"Amount($)\":[\"sum\"]}).round(3).reset_index()"
   ]
  },
  {
   "cell_type": "code",
   "execution_count": 337,
   "id": "1dbde7cc",
   "metadata": {},
   "outputs": [],
   "source": [
    "sps_fnd_loc = pd.merge(sps_loc, fnd_loc, left_on='Location', right_on='HeadQuarter', how='inner')"
   ]
  },
  {
   "cell_type": "code",
   "execution_count": 338,
   "id": "1cd7ff9b",
   "metadata": {},
   "outputs": [
    {
     "name": "stderr",
     "output_type": "stream",
     "text": [
      "C:\\Users\\user\\AppData\\Local\\Temp\\ipykernel_8660\\529021505.py:1: PerformanceWarning: dropping on a non-lexsorted multi-index without a level parameter may impact performance.\n",
      "  sps_fnd_loc.drop('HeadQuarter', axis=1, inplace=True)\n",
      "C:\\Users\\user\\AppData\\Local\\Temp\\ipykernel_8660\\529021505.py:3: PerformanceWarning: dropping on a non-lexsorted multi-index without a level parameter may impact performance.\n",
      "  sps_fnd_loc.drop('Amount($)', axis=1, inplace=True)\n"
     ]
    }
   ],
   "source": [
    "sps_fnd_loc.drop('HeadQuarter', axis=1, inplace=True)\n",
    "sps_fnd_loc['Amount($MM)'] = sps_fnd_loc['Amount($)'] / 1000000\n",
    "sps_fnd_loc.drop('Amount($)', axis=1, inplace=True)\n",
    "sps_fnd_loc.columns = ['City', 'Avg. Rating', 'Avg. Salary', 'Nr. Companies Funded', 'Sum Funding ($MM)']"
   ]
  },
  {
   "cell_type": "code",
   "execution_count": 339,
   "id": "2c8c0685",
   "metadata": {},
   "outputs": [
    {
     "name": "stdout",
     "output_type": "stream",
     "text": [
      "Kolkata 5\n"
     ]
    }
   ],
   "source": [
    "highest_rating_city = sps_fnd_loc.loc[sps_fnd_loc['Avg. Rating'].idxmax(), 'City']\n",
    "nr_companies_funded = sps_fnd_loc.loc[sps_fnd_loc['City'] == highest_rating_city, 'Nr. Companies Funded'].values[0]\n",
    "print (highest_rating_city, nr_companies_funded)"
   ]
  },
  {
   "cell_type": "code",
   "execution_count": 340,
   "id": "4ea51012",
   "metadata": {},
   "outputs": [
    {
     "data": {
      "text/plain": [
       "5"
      ]
     },
     "execution_count": 340,
     "metadata": {},
     "output_type": "execute_result"
    }
   ],
   "source": [
    "nr_companies_funded"
   ]
  },
  {
   "cell_type": "code",
   "execution_count": 341,
   "id": "47e4c3f2",
   "metadata": {},
   "outputs": [
    {
     "data": {
      "text/html": [
       "<div>\n",
       "<style scoped>\n",
       "    .dataframe tbody tr th:only-of-type {\n",
       "        vertical-align: middle;\n",
       "    }\n",
       "\n",
       "    .dataframe tbody tr th {\n",
       "        vertical-align: top;\n",
       "    }\n",
       "\n",
       "    .dataframe thead th {\n",
       "        text-align: right;\n",
       "    }\n",
       "</style>\n",
       "<table border=\"1\" class=\"dataframe\">\n",
       "  <thead>\n",
       "    <tr style=\"text-align: right;\">\n",
       "      <th></th>\n",
       "      <th>City</th>\n",
       "      <th>Avg. Rating</th>\n",
       "      <th>Avg. Salary</th>\n",
       "      <th>Nr. Companies Funded</th>\n",
       "      <th>Sum Funding ($MM)</th>\n",
       "    </tr>\n",
       "  </thead>\n",
       "  <tbody>\n",
       "    <tr>\n",
       "      <th>0</th>\n",
       "      <td>Bangalore</td>\n",
       "      <td>3.920</td>\n",
       "      <td>735344.740</td>\n",
       "      <td>425</td>\n",
       "      <td>14327.42</td>\n",
       "    </tr>\n",
       "    <tr>\n",
       "      <th>1</th>\n",
       "      <td>Chennai</td>\n",
       "      <td>3.903</td>\n",
       "      <td>584559.662</td>\n",
       "      <td>40</td>\n",
       "      <td>717.14</td>\n",
       "    </tr>\n",
       "    <tr>\n",
       "      <th>2</th>\n",
       "      <td>Hyderabad</td>\n",
       "      <td>3.914</td>\n",
       "      <td>679099.157</td>\n",
       "      <td>34</td>\n",
       "      <td>243.96</td>\n",
       "    </tr>\n",
       "    <tr>\n",
       "      <th>3</th>\n",
       "      <td>Jaipur</td>\n",
       "      <td>3.941</td>\n",
       "      <td>629135.802</td>\n",
       "      <td>11</td>\n",
       "      <td>343.30</td>\n",
       "    </tr>\n",
       "    <tr>\n",
       "      <th>4</th>\n",
       "      <td>Kolkata</td>\n",
       "      <td>4.025</td>\n",
       "      <td>710925.573</td>\n",
       "      <td>5</td>\n",
       "      <td>28.00</td>\n",
       "    </tr>\n",
       "    <tr>\n",
       "      <th>5</th>\n",
       "      <td>Mumbai</td>\n",
       "      <td>3.882</td>\n",
       "      <td>961180.368</td>\n",
       "      <td>200</td>\n",
       "      <td>153830.30</td>\n",
       "    </tr>\n",
       "    <tr>\n",
       "      <th>6</th>\n",
       "      <td>New Delhi</td>\n",
       "      <td>3.943</td>\n",
       "      <td>658756.736</td>\n",
       "      <td>143</td>\n",
       "      <td>1673.01</td>\n",
       "    </tr>\n",
       "    <tr>\n",
       "      <th>7</th>\n",
       "      <td>Pune</td>\n",
       "      <td>3.886</td>\n",
       "      <td>690476.311</td>\n",
       "      <td>46</td>\n",
       "      <td>509.07</td>\n",
       "    </tr>\n",
       "  </tbody>\n",
       "</table>\n",
       "</div>"
      ],
      "text/plain": [
       "        City  Avg. Rating  Avg. Salary  Nr. Companies Funded  \\\n",
       "0  Bangalore        3.920   735344.740                   425   \n",
       "1    Chennai        3.903   584559.662                    40   \n",
       "2  Hyderabad        3.914   679099.157                    34   \n",
       "3     Jaipur        3.941   629135.802                    11   \n",
       "4    Kolkata        4.025   710925.573                     5   \n",
       "5     Mumbai        3.882   961180.368                   200   \n",
       "6  New Delhi        3.943   658756.736                   143   \n",
       "7       Pune        3.886   690476.311                    46   \n",
       "\n",
       "   Sum Funding ($MM)  \n",
       "0           14327.42  \n",
       "1             717.14  \n",
       "2             243.96  \n",
       "3             343.30  \n",
       "4              28.00  \n",
       "5          153830.30  \n",
       "6            1673.01  \n",
       "7             509.07  "
      ]
     },
     "execution_count": 341,
     "metadata": {},
     "output_type": "execute_result"
    }
   ],
   "source": [
    "sps_fnd_loc"
   ]
  },
  {
   "attachments": {},
   "cell_type": "markdown",
   "id": "a7dcfa1d-2439-4f63-bd15-abf5e7398a2e",
   "metadata": {},
   "source": [
    "5. Create a scatterplot that shows the relationship between the `Avg. Salary` and the `Sum Funding ($MM)`. Which `City` stands out in terms of total funding received by companies and salary paid to their employees? "
   ]
  },
  {
   "cell_type": "code",
   "execution_count": 342,
   "id": "e046b4cb-b783-455c-9a39-7fddc33b1119",
   "metadata": {},
   "outputs": [
    {
     "data": {
      "image/png": "[encoded data removed]",
      "text/plain": [
       "<Figure size 1000x600 with 1 Axes>"
      ]
     },
     "metadata": {},
     "output_type": "display_data"
    }
   ],
   "source": [
    "# Crea il grafico utilizzando Seaborn\n",
    "plt.figure(figsize=(10, 6))  # Imposta la dimensione del grafico\n",
    "plt.xlim(0, 1200000)\n",
    "plt.ylim(0, 170000)\n",
    "\n",
    "# Disegna il grafico a dispersione utilizzando Seaborn\n",
    "sns.scatterplot(data=sps_fnd_loc, x='Avg. Salary', y='Sum Funding ($MM)')\n",
    "\n",
    "# Imposta il titolo del grafico e le etichette degli assi\n",
    "plt.title('Relazione tra la Media dei Salari e la Somma dei Fondi ($MM)')\n",
    "plt.xlabel('Media dei Salari')\n",
    "plt.ylabel('Somma dei Fondi ($MM)')\n",
    "\n",
    "# Aggiungi le etichette dei punti al grafico utilizzando Matplotlib\n",
    "for i in range(len(sps_fnd_loc)):\n",
    "    if sps_fnd_loc['Sum Funding ($MM)'][i]>100000:\n",
    "        \n",
    "        labels= f\" {sps_fnd_loc['City'][i]} \\n Avg. Salary: {sps_fnd_loc['Avg. Salary'][i]} \\n Sum Funding ($MM):  {sps_fnd_loc['Sum Funding ($MM)'][i]} \"\n",
    "        plt.text(sps_fnd_loc['Avg. Salary'][i], sps_fnd_loc['Sum Funding ($MM)'][i], labels)\n",
    "    \n",
    "\n",
    "# Mostra il grafico\n",
    "plt.show()"
   ]
  },
  {
   "attachments": {},
   "cell_type": "markdown",
   "id": "40deb346-babe-4dcb-81e2-6fc4d73acb2b",
   "metadata": {},
   "source": [
    "6. [BONUS] --> optional\n",
    "\n",
    "    Using libraries of your choice, scrape [this census page](https://www.census2011.co.in/city.php) and create a DataFrame called `cities` containing the first table from that page. *(Note: make sure to convert the variables `Population` and `Literacy` to numeric, you will need them later)*\n",
    "    1. Which City has the highest levels of `Literacy` in the country?\n",
    "    2. Merge the `cities` table with the `sps_fnd_loc` in a new DataFrame called `sps_fnd_loc_lit`. The resulting DataFrame is missing one row compared to the `sps_fnd_loc` dataset. Which `City` is missing? Figure out why and fix the problem. \n",
    "    3. Looking at the new `sps_fnd_loc_lit` DataFrame, produce a scatterplot that shows `Literacy` on the x-axis, `Avg. Salary` on the y-axis and the `Population` as the size of the circles. Try also to add the `City` labels to each circle in the chart. There seems to be a positive direct relationship between the two variables (higher levels of literacy correspond to higher salaries), but there is one city that escapes this interpretation. Which city is it? Try to describe the chart and give your interpretation. "
   ]
  },
  {
   "cell_type": "code",
   "execution_count": 343,
   "id": "8b76fb1a-19bd-450b-9f77-8b0e05fc3009",
   "metadata": {},
   "outputs": [],
   "source": [
    "import pandas as pd\n",
    "import numpy as np\n",
    "import requests\n",
    "from bs4 import BeautifulSoup\n",
    "import matplotlib.pyplot as plt\n",
    "import seaborn as sns"
   ]
  },
  {
   "cell_type": "code",
   "execution_count": null,
   "id": "0eea8bc8",
   "metadata": {},
   "outputs": [],
   "source": [
    "url = \"https://www.census2011.co.in/city.php\"\n",
    "page = requests.get(url)\n",
    "\n",
    "print(page.text)"
   ]
  },
  {
   "cell_type": "code",
   "execution_count": 345,
   "id": "524862ac",
   "metadata": {},
   "outputs": [],
   "source": [
    "soup = BeautifulSoup(page.content, \"html.parser\")"
   ]
  },
  {
   "cell_type": "code",
   "execution_count": 346,
   "id": "f5a8792b",
   "metadata": {},
   "outputs": [],
   "source": [
    "# step_1 = soup.find('div', class_ =\"container-xxl bd-gutter mt-3 my-md-4 bd-layout\")\n",
    "# step_2 = soup.find('div', class_ =\"bd-intro pt-2 ps-lg-2\")\n",
    "step_3 = soup.find('table', class_ =\"table table2 filter table-striped table-hover\")"
   ]
  },
  {
   "cell_type": "code",
   "execution_count": 347,
   "id": "6a885cfe",
   "metadata": {},
   "outputs": [],
   "source": [
    "# Recupero tutti i tag dei titoli delle colonne\n",
    "titoli_col_sup = soup.find_all('th')"
   ]
  },
  {
   "cell_type": "code",
   "execution_count": 348,
   "id": "413f1ad1",
   "metadata": {},
   "outputs": [],
   "source": [
    "# Inserisco i titoli in una lista\n",
    "titoli_col = []\n",
    "for c in titoli_col_sup: \n",
    "    titoli_col.append(c.text)"
   ]
  },
  {
   "cell_type": "code",
   "execution_count": 349,
   "id": "a02cd398",
   "metadata": {},
   "outputs": [],
   "source": [
    "# Recupero tutte i tag delle righe della tabella\n",
    "righe_tab_sup = soup.find_all('tr')"
   ]
  },
  {
   "cell_type": "code",
   "execution_count": 350,
   "id": "3e28af3f",
   "metadata": {},
   "outputs": [],
   "source": [
    "# Inserisco ciascun elemeno della riga nell'apposita lista\n",
    "rank=[]; City=[]; State=[]; Population=[]; Metropolitan=[]; Sexratio=[]; Literacy=[]\n",
    "for i in range (1, len(righe_tab_sup)) :\n",
    "    \n",
    "    rank.append( righe_tab_sup[i].find_all('td')[0].text )\n",
    "    City.append( righe_tab_sup[i].find_all('td')[1].text )\n",
    "    State.append( righe_tab_sup[i].find_all('td')[2].text )\n",
    "    Population.append( righe_tab_sup[i].find_all('td')[3].text )\n",
    "    Metropolitan.append( righe_tab_sup[i].find_all('td')[4].text )\n",
    "    Sexratio.append( righe_tab_sup[i].find_all('td')[5].text )\n",
    "    Literacy.append( righe_tab_sup[i].find_all('td')[6].text )\n"
   ]
  },
  {
   "cell_type": "code",
   "execution_count": 351,
   "id": "bce5c264",
   "metadata": {},
   "outputs": [],
   "source": [
    "datasets= [rank, City, State, Population, Metropolitan, Sexratio, Literacy]"
   ]
  },
  {
   "cell_type": "code",
   "execution_count": 352,
   "id": "2c099ce1",
   "metadata": {},
   "outputs": [],
   "source": [
    "cities = pd.DataFrame(datasets, titoli_col).T"
   ]
  },
  {
   "cell_type": "code",
   "execution_count": 353,
   "id": "a0ee82ba",
   "metadata": {},
   "outputs": [],
   "source": [
    "cities[\"Population\"] = [float(str(i).replace(\",\", \"\")) for i in cities[\"Population\"]]\n",
    "cities['Population']= pd.to_numeric(cities['Population'], downcast='integer', errors='coerce')\n",
    "cities['Literacy']= pd.to_numeric(cities['Literacy'], downcast='integer', errors='coerce')"
   ]
  },
  {
   "cell_type": "code",
   "execution_count": null,
   "id": "800d4759",
   "metadata": {},
   "outputs": [],
   "source": [
    "cities"
   ]
  },
  {
   "cell_type": "code",
   "execution_count": 355,
   "id": "df7ee7ae",
   "metadata": {},
   "outputs": [
    {
     "data": {
      "text/plain": [
       "'Aizawl'"
      ]
     },
     "execution_count": 355,
     "metadata": {},
     "output_type": "execute_result"
    }
   ],
   "source": [
    "city_highest_literacy = cities.loc[cities['Literacy'].idxmax(), 'City']\n",
    "city_highest_literacy"
   ]
  },
  {
   "cell_type": "code",
   "execution_count": 356,
   "id": "8ab685b4",
   "metadata": {},
   "outputs": [],
   "source": [
    "sps_fnd_loc_lit = pd.merge(cities, sps_fnd_loc, left_on='City', right_on='City', how='inner')"
   ]
  },
  {
   "cell_type": "code",
   "execution_count": null,
   "id": "6e0f4715",
   "metadata": {},
   "outputs": [],
   "source": [
    "print( sps_fnd_loc['City'].sort_values() )\n",
    "print( sps_fnd_loc_lit['City'].sort_values() )"
   ]
  },
  {
   "cell_type": "code",
   "execution_count": 358,
   "id": "9e08427b",
   "metadata": {},
   "outputs": [],
   "source": [
    "nomi_mancanti = sps_fnd_loc[~sps_fnd_loc['City'].isin(sps_fnd_loc_lit['City'])]['City']"
   ]
  },
  {
   "cell_type": "code",
   "execution_count": 359,
   "id": "b72ca17b",
   "metadata": {},
   "outputs": [
    {
     "data": {
      "text/plain": [
       "6    New Delhi\n",
       "Name: City, dtype: object"
      ]
     },
     "execution_count": 359,
     "metadata": {},
     "output_type": "execute_result"
    }
   ],
   "source": [
    "nomi_mancanti"
   ]
  },
  {
   "attachments": {},
   "cell_type": "markdown",
   "id": "850d1a77",
   "metadata": {},
   "source": [
    "Dal nome mancante si evince che il **problema** è rappresentato dal **modo diverso** in cui è stata scritta `la stessa città`"
   ]
  },
  {
   "cell_type": "code",
   "execution_count": 360,
   "id": "13aca7c9",
   "metadata": {},
   "outputs": [],
   "source": [
    "cities['City'] = cities['City'].replace('Delhi', 'New Delhi')"
   ]
  },
  {
   "cell_type": "code",
   "execution_count": 361,
   "id": "c8c07bc9",
   "metadata": {},
   "outputs": [],
   "source": [
    "sps_fnd_loc_lit = pd.merge(cities, sps_fnd_loc, left_on='City', right_on='City', how='inner')\n"
   ]
  },
  {
   "cell_type": "code",
   "execution_count": 362,
   "id": "fb68e1d2",
   "metadata": {},
   "outputs": [
    {
     "data": {
      "text/html": [
       "<div>\n",
       "<style scoped>\n",
       "    .dataframe tbody tr th:only-of-type {\n",
       "        vertical-align: middle;\n",
       "    }\n",
       "\n",
       "    .dataframe tbody tr th {\n",
       "        vertical-align: top;\n",
       "    }\n",
       "\n",
       "    .dataframe thead th {\n",
       "        text-align: right;\n",
       "    }\n",
       "</style>\n",
       "<table border=\"1\" class=\"dataframe\">\n",
       "  <thead>\n",
       "    <tr style=\"text-align: right;\">\n",
       "      <th></th>\n",
       "      <th>#</th>\n",
       "      <th>City</th>\n",
       "      <th>State</th>\n",
       "      <th>Population</th>\n",
       "      <th>Metropolitan</th>\n",
       "      <th>Sexratio</th>\n",
       "      <th>Literacy</th>\n",
       "      <th>Avg. Rating</th>\n",
       "      <th>Avg. Salary</th>\n",
       "      <th>Nr. Companies Funded</th>\n",
       "      <th>Sum Funding ($MM)</th>\n",
       "    </tr>\n",
       "  </thead>\n",
       "  <tbody>\n",
       "    <tr>\n",
       "      <th>0</th>\n",
       "      <td>1</td>\n",
       "      <td>Mumbai</td>\n",
       "      <td>Maharashtra</td>\n",
       "      <td>12442373</td>\n",
       "      <td>18,414,288</td>\n",
       "      <td>853</td>\n",
       "      <td>89.73</td>\n",
       "      <td>3.882</td>\n",
       "      <td>961180.368</td>\n",
       "      <td>200</td>\n",
       "      <td>153830.30</td>\n",
       "    </tr>\n",
       "    <tr>\n",
       "      <th>1</th>\n",
       "      <td>2</td>\n",
       "      <td>New Delhi</td>\n",
       "      <td>Delhi</td>\n",
       "      <td>11034555</td>\n",
       "      <td>16,314,838</td>\n",
       "      <td>876</td>\n",
       "      <td>87.59</td>\n",
       "      <td>3.943</td>\n",
       "      <td>658756.736</td>\n",
       "      <td>143</td>\n",
       "      <td>1673.01</td>\n",
       "    </tr>\n",
       "    <tr>\n",
       "      <th>2</th>\n",
       "      <td>3</td>\n",
       "      <td>Bangalore</td>\n",
       "      <td>Karnataka</td>\n",
       "      <td>8443675</td>\n",
       "      <td>8,499,399</td>\n",
       "      <td>923</td>\n",
       "      <td>88.71</td>\n",
       "      <td>3.920</td>\n",
       "      <td>735344.740</td>\n",
       "      <td>425</td>\n",
       "      <td>14327.42</td>\n",
       "    </tr>\n",
       "    <tr>\n",
       "      <th>3</th>\n",
       "      <td>4</td>\n",
       "      <td>Hyderabad</td>\n",
       "      <td>Andhra Pradesh</td>\n",
       "      <td>6731790</td>\n",
       "      <td>7,749,334</td>\n",
       "      <td>955</td>\n",
       "      <td>83.26</td>\n",
       "      <td>3.914</td>\n",
       "      <td>679099.157</td>\n",
       "      <td>34</td>\n",
       "      <td>243.96</td>\n",
       "    </tr>\n",
       "    <tr>\n",
       "      <th>4</th>\n",
       "      <td>6</td>\n",
       "      <td>Chennai</td>\n",
       "      <td>Tamil Nadu</td>\n",
       "      <td>4646732</td>\n",
       "      <td>8,696,010</td>\n",
       "      <td>989</td>\n",
       "      <td>90.18</td>\n",
       "      <td>3.903</td>\n",
       "      <td>584559.662</td>\n",
       "      <td>40</td>\n",
       "      <td>717.14</td>\n",
       "    </tr>\n",
       "    <tr>\n",
       "      <th>5</th>\n",
       "      <td>7</td>\n",
       "      <td>Kolkata</td>\n",
       "      <td>West Bengal</td>\n",
       "      <td>4496694</td>\n",
       "      <td>14,112,536</td>\n",
       "      <td>908</td>\n",
       "      <td>86.31</td>\n",
       "      <td>4.025</td>\n",
       "      <td>710925.573</td>\n",
       "      <td>5</td>\n",
       "      <td>28.00</td>\n",
       "    </tr>\n",
       "    <tr>\n",
       "      <th>6</th>\n",
       "      <td>9</td>\n",
       "      <td>Pune</td>\n",
       "      <td>Maharashtra</td>\n",
       "      <td>3124458</td>\n",
       "      <td>5,049,968</td>\n",
       "      <td>948</td>\n",
       "      <td>89.56</td>\n",
       "      <td>3.886</td>\n",
       "      <td>690476.311</td>\n",
       "      <td>46</td>\n",
       "      <td>509.07</td>\n",
       "    </tr>\n",
       "    <tr>\n",
       "      <th>7</th>\n",
       "      <td>10</td>\n",
       "      <td>Jaipur</td>\n",
       "      <td>Rajasthan</td>\n",
       "      <td>3046163</td>\n",
       "      <td>3,046,163</td>\n",
       "      <td>900</td>\n",
       "      <td>83.33</td>\n",
       "      <td>3.941</td>\n",
       "      <td>629135.802</td>\n",
       "      <td>11</td>\n",
       "      <td>343.30</td>\n",
       "    </tr>\n",
       "  </tbody>\n",
       "</table>\n",
       "</div>"
      ],
      "text/plain": [
       "    #       City           State  Population Metropolitan Sexratio  Literacy  \\\n",
       "0   1     Mumbai     Maharashtra    12442373   18,414,288      853     89.73   \n",
       "1   2  New Delhi           Delhi    11034555   16,314,838      876     87.59   \n",
       "2   3  Bangalore       Karnataka     8443675    8,499,399      923     88.71   \n",
       "3   4  Hyderabad  Andhra Pradesh     6731790    7,749,334      955     83.26   \n",
       "4   6    Chennai      Tamil Nadu     4646732    8,696,010      989     90.18   \n",
       "5   7    Kolkata     West Bengal     4496694   14,112,536      908     86.31   \n",
       "6   9       Pune     Maharashtra     3124458    5,049,968      948     89.56   \n",
       "7  10     Jaipur       Rajasthan     3046163    3,046,163      900     83.33   \n",
       "\n",
       "   Avg. Rating  Avg. Salary  Nr. Companies Funded  Sum Funding ($MM)  \n",
       "0        3.882   961180.368                   200          153830.30  \n",
       "1        3.943   658756.736                   143            1673.01  \n",
       "2        3.920   735344.740                   425           14327.42  \n",
       "3        3.914   679099.157                    34             243.96  \n",
       "4        3.903   584559.662                    40             717.14  \n",
       "5        4.025   710925.573                     5              28.00  \n",
       "6        3.886   690476.311                    46             509.07  \n",
       "7        3.941   629135.802                    11             343.30  "
      ]
     },
     "execution_count": 362,
     "metadata": {},
     "output_type": "execute_result"
    }
   ],
   "source": [
    "sps_fnd_loc_lit"
   ]
  },
  {
   "cell_type": "code",
   "execution_count": 425,
   "id": "1339047c",
   "metadata": {},
   "outputs": [
    {
     "data": {
      "image/png": "[encoded data removed]",
      "text/plain": [
       "<Figure size 1000x600 with 1 Axes>"
      ]
     },
     "metadata": {},
     "output_type": "display_data"
    }
   ],
   "source": [
    "# Crea il grafico utilizzando Seaborn\n",
    "plt.figure(figsize=(10, 6))  # Imposta la dimensione del grafico\n",
    "plt.xlim(80, 95)\n",
    "plt.ylim(500000, 1100000)\n",
    "\n",
    "# Disegna il grafico a dispersione utilizzando Seaborn\n",
    "sns.scatterplot(data=sps_fnd_loc_lit, x='Literacy', y='Avg. Salary', s=(sps_fnd_loc_lit['Population']/5000))\n",
    "\n",
    "# Imposta il titolo del grafico e le etichette degli assi\n",
    "plt.title(' Relazione tra la Media dei Salari e l\\'Alfabetizzazione ')\n",
    "plt.xlabel(' Alfabetizzazione ')\n",
    "plt.ylabel(' Media dei Salari ')\n",
    "\n",
    "# Aggiungi le etichette dei punti al grafico utilizzando Matplotlib\n",
    "for i in range(len(sps_fnd_loc_lit)):\n",
    "        \n",
    "        labels= f\" {sps_fnd_loc_lit['City'][i]}  \"\n",
    "        plt.text(sps_fnd_loc_lit['Literacy'][i], sps_fnd_loc_lit['Avg. Salary'][i], labels)\n",
    "    \n",
    "\n",
    "# Mostra il grafico\n",
    "plt.show()"
   ]
  },
  {
   "cell_type": "code",
   "execution_count": 306,
   "id": "954cc38b",
   "metadata": {},
   "outputs": [
    {
     "data": {
      "text/html": [
       "<div>\n",
       "<style scoped>\n",
       "    .dataframe tbody tr th:only-of-type {\n",
       "        vertical-align: middle;\n",
       "    }\n",
       "\n",
       "    .dataframe tbody tr th {\n",
       "        vertical-align: top;\n",
       "    }\n",
       "\n",
       "    .dataframe thead th {\n",
       "        text-align: right;\n",
       "    }\n",
       "</style>\n",
       "<table border=\"1\" class=\"dataframe\">\n",
       "  <thead>\n",
       "    <tr style=\"text-align: right;\">\n",
       "      <th></th>\n",
       "      <th>#</th>\n",
       "      <th>City</th>\n",
       "      <th>State</th>\n",
       "      <th>Population</th>\n",
       "      <th>Metropolitan</th>\n",
       "      <th>Sexratio</th>\n",
       "      <th>Literacy</th>\n",
       "      <th>Avg. Rating</th>\n",
       "      <th>Avg. Salary</th>\n",
       "      <th>Nr. Companies Funded</th>\n",
       "      <th>Sum Funding ($MM)</th>\n",
       "    </tr>\n",
       "  </thead>\n",
       "  <tbody>\n",
       "    <tr>\n",
       "      <th>0</th>\n",
       "      <td>1</td>\n",
       "      <td>Mumbai</td>\n",
       "      <td>Maharashtra</td>\n",
       "      <td>12442373.0</td>\n",
       "      <td>18,414,288</td>\n",
       "      <td>853</td>\n",
       "      <td>89.73</td>\n",
       "      <td>3.882</td>\n",
       "      <td>961180.368</td>\n",
       "      <td>200</td>\n",
       "      <td>153830.30</td>\n",
       "    </tr>\n",
       "    <tr>\n",
       "      <th>1</th>\n",
       "      <td>2</td>\n",
       "      <td>New Delhi</td>\n",
       "      <td>Delhi</td>\n",
       "      <td>11034555.0</td>\n",
       "      <td>16,314,838</td>\n",
       "      <td>876</td>\n",
       "      <td>87.59</td>\n",
       "      <td>3.943</td>\n",
       "      <td>658756.736</td>\n",
       "      <td>143</td>\n",
       "      <td>1673.01</td>\n",
       "    </tr>\n",
       "    <tr>\n",
       "      <th>2</th>\n",
       "      <td>3</td>\n",
       "      <td>Bangalore</td>\n",
       "      <td>Karnataka</td>\n",
       "      <td>8443675.0</td>\n",
       "      <td>8,499,399</td>\n",
       "      <td>923</td>\n",
       "      <td>88.71</td>\n",
       "      <td>3.920</td>\n",
       "      <td>735344.740</td>\n",
       "      <td>425</td>\n",
       "      <td>14327.42</td>\n",
       "    </tr>\n",
       "    <tr>\n",
       "      <th>3</th>\n",
       "      <td>4</td>\n",
       "      <td>Hyderabad</td>\n",
       "      <td>Andhra Pradesh</td>\n",
       "      <td>6731790.0</td>\n",
       "      <td>7,749,334</td>\n",
       "      <td>955</td>\n",
       "      <td>83.26</td>\n",
       "      <td>3.914</td>\n",
       "      <td>679099.157</td>\n",
       "      <td>34</td>\n",
       "      <td>243.96</td>\n",
       "    </tr>\n",
       "    <tr>\n",
       "      <th>4</th>\n",
       "      <td>6</td>\n",
       "      <td>Chennai</td>\n",
       "      <td>Tamil Nadu</td>\n",
       "      <td>4646732.0</td>\n",
       "      <td>8,696,010</td>\n",
       "      <td>989</td>\n",
       "      <td>90.18</td>\n",
       "      <td>3.903</td>\n",
       "      <td>584559.662</td>\n",
       "      <td>40</td>\n",
       "      <td>717.14</td>\n",
       "    </tr>\n",
       "    <tr>\n",
       "      <th>5</th>\n",
       "      <td>7</td>\n",
       "      <td>Kolkata</td>\n",
       "      <td>West Bengal</td>\n",
       "      <td>4496694.0</td>\n",
       "      <td>14,112,536</td>\n",
       "      <td>908</td>\n",
       "      <td>86.31</td>\n",
       "      <td>4.025</td>\n",
       "      <td>710925.573</td>\n",
       "      <td>5</td>\n",
       "      <td>28.00</td>\n",
       "    </tr>\n",
       "    <tr>\n",
       "      <th>6</th>\n",
       "      <td>9</td>\n",
       "      <td>Pune</td>\n",
       "      <td>Maharashtra</td>\n",
       "      <td>3124458.0</td>\n",
       "      <td>5,049,968</td>\n",
       "      <td>948</td>\n",
       "      <td>89.56</td>\n",
       "      <td>3.886</td>\n",
       "      <td>690476.311</td>\n",
       "      <td>46</td>\n",
       "      <td>509.07</td>\n",
       "    </tr>\n",
       "    <tr>\n",
       "      <th>7</th>\n",
       "      <td>10</td>\n",
       "      <td>Jaipur</td>\n",
       "      <td>Rajasthan</td>\n",
       "      <td>3046163.0</td>\n",
       "      <td>3,046,163</td>\n",
       "      <td>900</td>\n",
       "      <td>83.33</td>\n",
       "      <td>3.941</td>\n",
       "      <td>629135.802</td>\n",
       "      <td>11</td>\n",
       "      <td>343.30</td>\n",
       "    </tr>\n",
       "  </tbody>\n",
       "</table>\n",
       "</div>"
      ],
      "text/plain": [
       "    #       City           State  Population Metropolitan Sexratio  Literacy  \\\n",
       "0   1     Mumbai     Maharashtra  12442373.0   18,414,288      853     89.73   \n",
       "1   2  New Delhi           Delhi  11034555.0   16,314,838      876     87.59   \n",
       "2   3  Bangalore       Karnataka   8443675.0    8,499,399      923     88.71   \n",
       "3   4  Hyderabad  Andhra Pradesh   6731790.0    7,749,334      955     83.26   \n",
       "4   6    Chennai      Tamil Nadu   4646732.0    8,696,010      989     90.18   \n",
       "5   7    Kolkata     West Bengal   4496694.0   14,112,536      908     86.31   \n",
       "6   9       Pune     Maharashtra   3124458.0    5,049,968      948     89.56   \n",
       "7  10     Jaipur       Rajasthan   3046163.0    3,046,163      900     83.33   \n",
       "\n",
       "   Avg. Rating  Avg. Salary  Nr. Companies Funded  Sum Funding ($MM)  \n",
       "0        3.882   961180.368                   200          153830.30  \n",
       "1        3.943   658756.736                   143            1673.01  \n",
       "2        3.920   735344.740                   425           14327.42  \n",
       "3        3.914   679099.157                    34             243.96  \n",
       "4        3.903   584559.662                    40             717.14  \n",
       "5        4.025   710925.573                     5              28.00  \n",
       "6        3.886   690476.311                    46             509.07  \n",
       "7        3.941   629135.802                    11             343.30  "
      ]
     },
     "execution_count": 306,
     "metadata": {},
     "output_type": "execute_result"
    }
   ],
   "source": [
    "sps_fnd_loc_lit"
   ]
  },
  {
   "attachments": {},
   "cell_type": "markdown",
   "id": "01a012ec",
   "metadata": {},
   "source": [
    "Come si può osservare, `Chennai` risulta avere un alto grado di alfabetizzazione rispetto alla bassa madia dei salari. Una motivazione si potrebbe trovare nel suo più alto valore di **sexratio** (cioè ci sono 989 donne ogni 1000 uomini). Infatti, con molta probabilità, l'alto numero di donne influisce positivamente sul grado di alfabetizzazione della città. "
   ]
  }
 ],
 "metadata": {
  "kernelspec": {
   "display_name": "Python 3 (ipykernel)",
   "language": "python",
   "name": "python3"
  },
  "language_info": {
   "codemirror_mode": {
    "name": "ipython",
    "version": 3
   },
   "file_extension": ".py",
   "mimetype": "text/x-python",
   "name": "python",
   "nbconvert_exporter": "python",
   "pygments_lexer": "ipython3",
   "version": "3.11.3"
  }
 },
 "nbformat": 4,
 "nbformat_minor": 5
}

