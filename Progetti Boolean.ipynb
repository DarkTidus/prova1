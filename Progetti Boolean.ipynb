{
 "cells": [
  {
   "cell_type": "markdown",
   "metadata": {},
   "source": [
    "# Progetti Bolean"
   ]
  },
  {
   "cell_type": "markdown",
   "metadata": {},
   "source": [
    "Boolean, master sul mondo delle Data Analytics completo di lezioni teoriche, applicazioni pratiche con progetti di settore e approfondimenti tecnici con professionisti sui temi trattati. \n",
    "Il corso ha coperto tutte le principali tecnologie e applicazioni legate all'analisi dei dati, partendo dalla Web Analytics con Google Sheets, Google Analytics e Google Data Studio, per passare poi allo studio del linguaggio SQL per l'interrogazione di un database Google BigQuery e del linguaggio di programmazione Python. \n",
    "Elementi di statistica e Machine Learning sono stati trattati a livello teorico e con applicazioni pratiche in Python. \n",
    "Infine è stato trattato il tema della visualizzazione dei dati e dello storytelling utilizzando il noto software Tableau"
   ]
  },
  {
   "cell_type": "markdown",
   "metadata": {},
   "source": [
    "Qui i link ad alcuni progetti sviluppati durante il corso:\n",
    "1) Progetto Google Analytics, Google Sheets, AppScript\n",
    "https://docs.google.com/presentation/d/1iX756pnCUoATo_IzTKsEZcgfi7TaValJv-FX-xoG1BE/edit?usp=sharing\n",
    "2) Progetto SQL\n",
    "https://docs.google.com/presentation/d/1h0xSVAQuId2ocEoDX4HnGBwqQodAXmGmIIG9q9rwP1k/edit?usp=sharing\n",
    "3) Progetto Machine Learning\n",
    "https://docs.google.com/presentation/d/1ogzT4Qcyv30VMDfArfP8xPHc3tRDRogcZV0ccrEPRHM/edit?usp=sharing\n",
    "4) Progetto Green Gym\n",
    "https://docs.google.com/presentation/d/13gtaMDZ7v8uOZ3jkDJZY4Ve44GuTcYEvMXCBfPJI9YI/edit?usp=sharing"
   ]
  }
 ],
 "metadata": {
  "language_info": {
   "name": "python"
  },
  "orig_nbformat": 4
 },
 "nbformat": 4,
 "nbformat_minor": 2
}
